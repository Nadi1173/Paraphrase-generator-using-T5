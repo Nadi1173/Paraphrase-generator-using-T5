{
 "cells": [
  {
   "cell_type": "code",
   "execution_count": 5,
   "id": "723b70b8",
   "metadata": {},
   "outputs": [],
   "source": [
    "filename = \"./quora_duplicate_questions.tsv\"\n",
    "import pandas as pd\n",
    "question_pairs = pd.read_csv(filename, sep='\\t')\n",
    "question_pairs.drop(['qid1', 'qid2'], axis = 1,inplace = True)\n",
    "question_pairs_correct_paraphrased = question_pairs[question_pairs['is_duplicate']==1]\n",
    "question_pairs_correct_paraphrased.drop(['id', 'is_duplicate'], axis = 1,inplace = True)\n",
    "#train_test_split is a function in Sklearn model selection for splitting \n",
    "#data arrays into two subsets: for training data and for testing data. \n",
    "#With this function, you don't need to divide the dataset manually. \n",
    "#By default, Sklearn train_test_split will make random partitions for the two subsets.\n",
    "from sklearn.model_selection import train_test_split\n",
    "\n",
    "#test_sizefloat or int, default=None. If float, should be between 0.0 and 1.0 \n",
    "#and represent the proportion of the dataset to include in the test split.\n",
    "#If int, represents the absolute number of test samples. \n",
    "#If None, the value is set to the complement of the train size. \n",
    "#If train_size is also None, it will be set to 0.25 \n",
    "train, test = train_test_split(question_pairs_correct_paraphrased, test_size=0.1)\n",
    "train.to_csv('./ab/Quora_Paraphrasing_train.csv', index = False)\n",
    "test.to_csv('./ab/Quora_Paraphrasing_val.csv', index = False)"
   ]
  },
  {
   "cell_type": "code",
   "execution_count": null,
   "id": "83692d51",
   "metadata": {},
   "outputs": [],
   "source": []
  }
 ],
 "metadata": {
  "kernelspec": {
   "display_name": "Python 3 (ipykernel)",
   "language": "python",
   "name": "python3"
  },
  "language_info": {
   "codemirror_mode": {
    "name": "ipython",
    "version": 3
   },
   "file_extension": ".py",
   "mimetype": "text/x-python",
   "name": "python",
   "nbconvert_exporter": "python",
   "pygments_lexer": "ipython3",
   "version": "3.9.7"
  }
 },
 "nbformat": 4,
 "nbformat_minor": 5
}
